{
 "cells": [
  {
   "cell_type": "markdown",
   "metadata": {},
   "source": [
    "<img src=\"http://imgur.com/1ZcRyrc.png\" style=\"float: left; margin: 20px; height: 55px\">\n",
    "\n",
    "## Practice Python Functions\n",
    "\n",
    "_Author: Ryan Dunlap | DSI-SF_\n",
    "\n",
    "---"
   ]
  },
  {
   "cell_type": "markdown",
   "metadata": {},
   "source": [
    "### Resources - Potentially Helpful Functions\n",
    "\n",
    "* [Dictionary Comprehension](https://docs.python.org/2/tutorial/datastructures.html#dictionaries)\n",
    "* [Enumerate](https://docs.python.org/2/library/functions.html#enumerate)\n",
    "* [Length](https://docs.python.org/2/library/functions.html#len)\n",
    "* [Int](https://docs.python.org/2/library/functions.html#int)\n",
    "* [List](https://docs.python.org/2/library/functions.html#list)"
   ]
  },
  {
   "cell_type": "markdown",
   "metadata": {},
   "source": [
    "Now-a-days, most of the components of the `String` module are already built into Python. However, it still has several [constant values](https://docs.python.org/2/library/string.html#string-constants) which can be useful, such as:\n",
    "```python\n",
    "string.ascii_uppercase\n",
    "```"
   ]
  },
  {
   "cell_type": "code",
   "execution_count": 1,
   "metadata": {},
   "outputs": [
    {
     "data": {
      "text/plain": [
       "'ABCDEFGHIJKLMNOPQRSTUVWXYZ'"
      ]
     },
     "execution_count": 1,
     "metadata": {},
     "output_type": "execute_result"
    }
   ],
   "source": [
    "import string\n",
    "\n",
    "string.ascii_uppercase"
   ]
  },
  {
   "cell_type": "markdown",
   "metadata": {},
   "source": [
    "---\n",
    "\n",
    "### 1. Write a function that takes the length of a side of a square as an argument and returns the area of the square."
   ]
  },
  {
   "cell_type": "code",
   "execution_count": 3,
   "metadata": {},
   "outputs": [
    {
     "name": "stdout",
     "output_type": "stream",
     "text": [
      "25\n"
     ]
    }
   ],
   "source": [
    "# A: \n",
    "def calc_square_area(square_len):\n",
    "    return square_len * square_len\n",
    "\n",
    "# check:\n",
    "print(calc_square_area(5))"
   ]
  },
  {
   "cell_type": "markdown",
   "metadata": {},
   "source": [
    "---\n",
    "\n",
    "### 2. Write a function that takes the heigth and width of a triangle and returns the area."
   ]
  },
  {
   "cell_type": "code",
   "execution_count": 4,
   "metadata": {},
   "outputs": [
    {
     "name": "stdout",
     "output_type": "stream",
     "text": [
      "3.0\n"
     ]
    }
   ],
   "source": [
    "# A:\n",
    "def calc_triangle_area(triangle_height, triangle_width):\n",
    "    return 0.5 * triangle_height * triangle_width\n",
    "\n",
    "# check:\n",
    "print(calc_triangle_area(2, 3))"
   ]
  },
  {
   "cell_type": "markdown",
   "metadata": {},
   "source": [
    "---\n",
    "\n",
    "### 3. Write a function that takes a string as an argument and returns a tuple consisting of two elements:\n",
    "- **A list of all the characters in the string.** \n",
    "- **A count of the number of characters in the string.**"
   ]
  },
  {
   "cell_type": "code",
   "execution_count": 1,
   "metadata": {},
   "outputs": [
    {
     "name": "stdout",
     "output_type": "stream",
     "text": [
      "(['a', ' ', 'e', 'H', 'l', 'o', 'r', 'u', 'w', 'h', 'y'], [1, 3, 2, 1, 2, 3, 1, 1, 1, 1, 1])\n"
     ]
    }
   ],
   "source": [
    "# A:\n",
    "def count_str_char(arg_str):\n",
    "    char_dict = {}\n",
    "    for each_char in arg_str:\n",
    "        if each_char not in char_dict:\n",
    "            char_dict[each_char] = 1\n",
    "        else:\n",
    "            char_dict[each_char] += 1       \n",
    "    return (char_dict.keys(), char_dict.values())\n",
    "\n",
    "# check:\n",
    "print(count_str_char(\"Hello how are you\"))"
   ]
  },
  {
   "cell_type": "markdown",
   "metadata": {},
   "source": [
    "---\n",
    "\n",
    "### 4. Write a function that takes two integers, passed as strings, and returns the sum, difference, and product as a tuple (all values as integers)."
   ]
  },
  {
   "cell_type": "code",
   "execution_count": 6,
   "metadata": {},
   "outputs": [
    {
     "name": "stdout",
     "output_type": "stream",
     "text": [
      "(9, -1, 20)\n"
     ]
    }
   ],
   "source": [
    "# A:\n",
    "def compare_two_str_ints(str_int_one, str_int_two):\n",
    "    int_one = int(str_int_one)\n",
    "    int_two = int(str_int_two)\n",
    "    sum_ints = int_one + int_two\n",
    "    diff_ints = int_one - int_two\n",
    "    product_ints = int_one * int_two\n",
    "    return (sum_ints, diff_ints, product_ints)\n",
    "\n",
    "# check:\n",
    "print(compare_two_str_ints(\"4\", \"5\"))"
   ]
  },
  {
   "cell_type": "markdown",
   "metadata": {},
   "source": [
    "---\n",
    "\n",
    "### 5. Write a function that takes a list as the argument and returns a tuple consisting of two elements:\n",
    "- **A list with the items in reverse order.**  \n",
    "- **A list of the items in the original list that have an odd index.**"
   ]
  },
  {
   "cell_type": "code",
   "execution_count": 10,
   "metadata": {},
   "outputs": [
    {
     "name": "stdout",
     "output_type": "stream",
     "text": [
      "(['you', 'are', 'how', 'hello'], ['how', 'you'])\n"
     ]
    }
   ],
   "source": [
    "# A:\n",
    "def reverse_and_select_odd(arg_list):\n",
    "    arg_list_reversed = [x for x in arg_list]\n",
    "    arg_list_reversed.reverse()\n",
    "    odd_elements = []\n",
    "    for index in range(len(arg_list)):\n",
    "        if index % 2 == 1:\n",
    "            odd_elements.append(arg_list[index])\n",
    "    return (arg_list_reversed, odd_elements)\n",
    "\n",
    "# check:\n",
    "print(reverse_and_select_odd([\"hello\", \"how\", \"are\", \"you\"]))"
   ]
  },
  {
   "cell_type": "markdown",
   "metadata": {},
   "source": [
    "---\n",
    "\n",
    "### Challenge Problem: Write a function that returns the score for a word.  The score of the word is the sum of the scores of its letters. Each letter's score is equal to it's position in the alphabet.\n",
    "\n",
    "So, for example:\n",
    "\n",
    "* A = 1, B = 2, C = 3, D = 4, E = 5\n",
    "* abe = 8 = (1 + 2 + 5)\n",
    "\n",
    "\n",
    "_Hint: The string library has a property_ `ascii_lowercase` _that can save some typing here._\n"
   ]
  },
  {
   "cell_type": "code",
   "execution_count": 11,
   "metadata": {},
   "outputs": [
    {
     "name": "stdout",
     "output_type": "stream",
     "text": [
      "8\n"
     ]
    }
   ],
   "source": [
    "# A:\n",
    "def calc_word_score(word_str):\n",
    "    char_list = list(string.ascii_lowercase)\n",
    "    word_score = 0\n",
    "    for each_char in word_str:\n",
    "        char_score = char_list.index(each_char) + 1\n",
    "        word_score += char_score\n",
    "    return word_score\n",
    "\n",
    "# check:\n",
    "print(calc_word_score(\"abe\"))"
   ]
  }
 ],
 "metadata": {
  "anaconda-cloud": {},
  "kernelspec": {
   "display_name": "Python 2",
   "language": "python",
   "name": "python2"
  },
  "language_info": {
   "codemirror_mode": {
    "name": "ipython",
    "version": 2
   },
   "file_extension": ".py",
   "mimetype": "text/x-python",
   "name": "python",
   "nbconvert_exporter": "python",
   "pygments_lexer": "ipython2",
   "version": "2.7.14"
  }
 },
 "nbformat": 4,
 "nbformat_minor": 1
}
